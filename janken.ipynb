{
 "cells": [
  {
   "cell_type": "code",
   "execution_count": null,
   "id": "2ded6b5c",
   "metadata": {},
   "outputs": [
    {
     "name": "stdout",
     "output_type": "stream",
     "text": [
      "じゃんけんしましょう\n",
      "番号を入力してね\n",
      "1番・グー 2番・チョキ 3番・パー\n"
     ]
    },
    {
     "ename": "NameError",
     "evalue": "name 'random' is not defined",
     "output_type": "error",
     "traceback": [
      "\u001b[31m---------------------------------------------------------------------------\u001b[39m",
      "\u001b[31mNameError\u001b[39m                                 Traceback (most recent call last)",
      "\u001b[36mCell\u001b[39m\u001b[36m \u001b[39m\u001b[32mIn[1]\u001b[39m\u001b[32m, line 55\u001b[39m\n\u001b[32m     52\u001b[39m     user = \u001b[33m'\u001b[39m\u001b[33mパー\u001b[39m\u001b[33m'\u001b[39m\n\u001b[32m     54\u001b[39m \u001b[38;5;66;03m# コンピューターの手の選択\u001b[39;00m\n\u001b[32m---> \u001b[39m\u001b[32m55\u001b[39m cpu = \u001b[43mrandom\u001b[49m.choice(rock_paper_scissors)\n\u001b[32m     57\u001b[39m \u001b[38;5;66;03m# ユーザーとコンピューターの手を表示\u001b[39;00m\n\u001b[32m     58\u001b[39m \u001b[38;5;28mprint\u001b[39m(\u001b[33mf\u001b[39m\u001b[33m'\u001b[39m\u001b[33mあなたは\u001b[39m\u001b[38;5;132;01m{\u001b[39;00muser\u001b[38;5;132;01m}\u001b[39;00m\u001b[33m。向こうは\u001b[39m\u001b[38;5;132;01m{\u001b[39;00mcpu\u001b[38;5;132;01m}\u001b[39;00m\u001b[33m。\u001b[39m\u001b[33m'\u001b[39m)\n",
      "\u001b[31mNameError\u001b[39m: name 'random' is not defined"
     ]
    }
   ],
   "source": [
    "# # from flask import Flask, request, jsonify, render_template\n",
    "# # import random\n",
    "\n",
    "# # choices = ['グー', 'チョキ', 'パー']\n",
    "\n",
    "# # @app.route('/')\n",
    "# # def index():\n",
    "# #     return render_template('index.html')  # HTMLテンプレートを返す\n",
    "\n",
    "# # @app.route('/play', methods=['POST'])\n",
    "# # def play():\n",
    "# #     user_choice = request.json['choice']\n",
    "# #     cpu_choice = random.choice(choices)\n",
    "\n",
    "# #     # 勝敗判定\n",
    "# #     if user_choice == cpu_choice:\n",
    "# #         result = '引き分け'\n",
    "# #     elif (user_choice == 'グー' and cpu_choice == 'チョキ') or \\\n",
    "# #          (user_choice == 'チョキ' and cpu_choice == 'パー') or \\\n",
    "# #          (user_choice == 'パー' and cpu_choice == 'グー'):\n",
    "# #         result = 'あなたの勝ち！'\n",
    "# #     else:\n",
    "# #         result = 'あなたの負け！'\n",
    "\n",
    "# #     return jsonify({\n",
    "# #         'user_choice': user_choice,\n",
    "# #         'cpu_choice': cpu_choice,\n",
    "# #         'result': result\n",
    "# #     })\n",
    "\n",
    "# # if __name__ == '__main__':\n",
    "# #     app.run(debug=True)\n",
    "\n",
    "\n",
    "# # じゃんけんの手のリスト\n",
    "# rock_paper_scissors = ['グー', 'チョキ', 'パ-']\n",
    "\n",
    "# # ゲーム開始のメッセージ\n",
    "# print('じゃんけんしましょう')\n",
    "# print('番号を入力してね')\n",
    "# print('1番・グー 2番・チョキ 3番・パー')\n",
    "\n",
    "# # ユーザーの手の入力\n",
    "# number = input('あなたの手は？' )\n",
    "\n",
    "# # ユーザーの手の判定\n",
    "# if number == '1':\n",
    "#     user = 'グー'\n",
    "# elif number == '2':\n",
    "#     user = 'チョキ'\n",
    "# elif number == '3':\n",
    "#     user = 'パー'\n",
    "\n",
    "# # コンピューターの手の選択\n",
    "# cpu = random.choice(rock_paper_scissors)\n",
    "\n",
    "# # ユーザーとコンピューターの手を表示\n",
    "# print(f'あなたは{user}。向こうは{cpu}。')\n",
    "\n",
    "# # 勝敗の判定と結果の表示\n",
    "# if user == 'グー':\n",
    "#     if cpu == 'グー':\n",
    "#         print('あいこ！')\n",
    "# elif cpu == 'チョキ':  \n",
    "#     print('あなたの勝ち！')\n",
    "# elif cpu == 'パー':\n",
    "#     print('あなたの負け！')\n",
    "# # 他の手の組み合わせも同様に判定できます"
   ]
  },
  {
   "cell_type": "code",
   "execution_count": null,
   "metadata": {},
   "outputs": [],
   "source": []
  }
 ],
 "metadata": {
  "kernelspec": {
   "display_name": "mySpace202412",
   "language": "python",
   "name": "python3"
  },
  "language_info": {
   "codemirror_mode": {
    "name": "ipython",
    "version": 3
   },
   "file_extension": ".py",
   "mimetype": "text/x-python",
   "name": "python",
   "nbconvert_exporter": "python",
   "pygments_lexer": "ipython3",
   "version": "3.11.3"
  }
 },
 "nbformat": 4,
 "nbformat_minor": 5
}
